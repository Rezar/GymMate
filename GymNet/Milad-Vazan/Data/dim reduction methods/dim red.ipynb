{
 "cells": [
  {
   "cell_type": "code",
   "execution_count": 2,
   "metadata": {},
   "outputs": [],
   "source": [
    "import numpy as np\n",
    "from sklearn import preprocessing\n",
    "from sklearn.decomposition import PCA\n",
    "from sklearn.manifold import TSNE\n",
    "import umap\n",
    "import pandas as pd"
   ]
  },
  {
   "cell_type": "code",
   "execution_count": 3,
   "metadata": {},
   "outputs": [],
   "source": [
    "dataset = pd.read_csv('1.csv')\n",
    "dataset2 = pd.read_csv('2.csv')"
   ]
  },
  {
   "cell_type": "code",
   "execution_count": 55,
   "metadata": {},
   "outputs": [],
   "source": [
    "df = pd.DataFrame(columns=['name', 'principal_component'])"
   ]
  },
  {
   "cell_type": "markdown",
   "metadata": {},
   "source": [
    "# PCA"
   ]
  },
  {
   "cell_type": "code",
   "execution_count": 56,
   "metadata": {},
   "outputs": [],
   "source": [
    "for index, row in dataset.iterrows():\n",
    "    \n",
    "    t1=eval(row['X_RShoulder'])\n",
    "    t2=eval(row['Y_RShoulder'])\n",
    "    \n",
    "    t3=eval(row['X_LShoulder'])\n",
    "    t4=eval(row['Y_LShoulder'])\n",
    "    \n",
    "    t5=eval(row['X_RWrist'])\n",
    "    t6=eval(row['Y_RWrist'])\n",
    "    \n",
    "    t7=eval(row['X_LWrist'])\n",
    "    t8=eval(row['Y_LWrist'])\n",
    "    \n",
    "    t9=eval(row['X_RHip'])\n",
    "    t10=eval(row['Y_RHip'])\n",
    "    \n",
    "    t11=eval(row['X_LHip'])\n",
    "    t12=eval(row['Y_LHip'])\n",
    "    \n",
    "    t13=eval(row['X_RAnkle'])\n",
    "    t14=eval(row['Y_RAnkle'])\n",
    "    \n",
    "    t15=eval(row['X_LAnkle'])\n",
    "    t16=eval(row['Y_LAnkle'])\n",
    "    \n",
    "    \n",
    "    t17=eval(row['X_Rknee'])\n",
    "    t18=eval(row['Y_Rknee'])\n",
    "    \n",
    "    t19=eval(row['X_LKnee'])\n",
    "    t20=eval(row['Y_LKnee'])\n",
    "    \n",
    "    \n",
    "    \n",
    "    \n",
    "    pca = PCA(n_components=2)\n",
    "    principal_component=pca.fit_transform([t1,t2,t3,t4,t5,t6,t7,t8,t9,t10,t11,t12,t13,t14,t15,t16,t17,t18,t19,t20])\n",
    "    df = df.append({'name':row['name'], 'principal_component':principal_component}, ignore_index=True) "
   ]
  },
  {
   "cell_type": "code",
   "execution_count": 57,
   "metadata": {},
   "outputs": [
    {
     "data": {
      "text/html": [
       "<div>\n",
       "<style scoped>\n",
       "    .dataframe tbody tr th:only-of-type {\n",
       "        vertical-align: middle;\n",
       "    }\n",
       "\n",
       "    .dataframe tbody tr th {\n",
       "        vertical-align: top;\n",
       "    }\n",
       "\n",
       "    .dataframe thead th {\n",
       "        text-align: right;\n",
       "    }\n",
       "</style>\n",
       "<table border=\"1\" class=\"dataframe\">\n",
       "  <thead>\n",
       "    <tr style=\"text-align: right;\">\n",
       "      <th></th>\n",
       "      <th>name</th>\n",
       "      <th>principal_component</th>\n",
       "    </tr>\n",
       "  </thead>\n",
       "  <tbody>\n",
       "    <tr>\n",
       "      <th>0</th>\n",
       "      <td>angled leg presses</td>\n",
       "      <td>[[-44.139098832801, -176.61919568294866], [336...</td>\n",
       "    </tr>\n",
       "    <tr>\n",
       "      <th>1</th>\n",
       "      <td>arnold press</td>\n",
       "      <td>[[-2460.387135333236, -182.96493284391616], [-...</td>\n",
       "    </tr>\n",
       "    <tr>\n",
       "      <th>2</th>\n",
       "      <td>back extensions</td>\n",
       "      <td>[[5036.834554823067, 45.89560288299823], [-120...</td>\n",
       "    </tr>\n",
       "    <tr>\n",
       "      <th>3</th>\n",
       "      <td>back presses</td>\n",
       "      <td>[[-1869.483716472575, -280.4031155756044], [45...</td>\n",
       "    </tr>\n",
       "    <tr>\n",
       "      <th>4</th>\n",
       "      <td>bar triceps extensions</td>\n",
       "      <td>[[-1713.7334096708614, 255.0741787785069], [43...</td>\n",
       "    </tr>\n",
       "  </tbody>\n",
       "</table>\n",
       "</div>"
      ],
      "text/plain": [
       "                     name                                principal_component\n",
       "0      angled leg presses  [[-44.139098832801, -176.61919568294866], [336...\n",
       "1            arnold press  [[-2460.387135333236, -182.96493284391616], [-...\n",
       "2         back extensions  [[5036.834554823067, 45.89560288299823], [-120...\n",
       "3            back presses  [[-1869.483716472575, -280.4031155756044], [45...\n",
       "4  bar triceps extensions  [[-1713.7334096708614, 255.0741787785069], [43..."
      ]
     },
     "execution_count": 57,
     "metadata": {},
     "output_type": "execute_result"
    }
   ],
   "source": [
    "df.head()"
   ]
  },
  {
   "cell_type": "code",
   "execution_count": 60,
   "metadata": {},
   "outputs": [
    {
     "data": {
      "text/plain": [
       "(20, 2)"
      ]
     },
     "execution_count": 60,
     "metadata": {},
     "output_type": "execute_result"
    }
   ],
   "source": [
    "df.principal_component[0].shape"
   ]
  },
  {
   "cell_type": "code",
   "execution_count": 45,
   "metadata": {},
   "outputs": [
    {
     "data": {
      "text/plain": [
       "array([[  -44.13909883,  -176.61919568],\n",
       "       [ 3366.00132825,  -103.00576155],\n",
       "       [ -464.40841171,  -125.84100178],\n",
       "       [ 3822.90106324,    35.1604942 ],\n",
       "       [-2526.08186961,  -441.46218167],\n",
       "       [ 3893.17307533,  -122.38234352],\n",
       "       [-4258.74386612,  -281.68907595],\n",
       "       [ 5936.26384546,   104.8515137 ],\n",
       "       [-2786.22199715,  -418.67930675],\n",
       "       [ 3736.42334227,  -192.24559217],\n",
       "       [-3308.87048729,  -412.59135569],\n",
       "       [ 4138.09679101,  -149.34976217],\n",
       "       [-4273.62075831,   -15.44028674],\n",
       "       [  -39.24308922,   487.65364001],\n",
       "       [-5211.89003324,   264.06383473],\n",
       "       [  238.66536935,   503.7571797 ],\n",
       "       [-2478.2761228 ,   397.73838568],\n",
       "       [ 1712.54289059,    67.33435008],\n",
       "       [-3390.95775389,   478.92858488],\n",
       "       [ 1938.38578267,    99.81788068]])"
      ]
     },
     "execution_count": 45,
     "metadata": {},
     "output_type": "execute_result"
    }
   ],
   "source": [
    "df.principal_component[0]"
   ]
  },
  {
   "cell_type": "code",
   "execution_count": 46,
   "metadata": {},
   "outputs": [],
   "source": [
    "df.to_csv('vgfif_pca.csv', index = False)"
   ]
  },
  {
   "cell_type": "code",
   "execution_count": 48,
   "metadata": {},
   "outputs": [],
   "source": [
    "df = pd.DataFrame(columns=['name', 'principal_component'])\n",
    "for index, row in dataset2.iterrows():\n",
    "    \n",
    "    t1=eval(row['X_RShoulder'])\n",
    "    t2=eval(row['Y_RShoulder'])\n",
    "    \n",
    "    t3=eval(row['X_LShoulder'])\n",
    "    t4=eval(row['Y_LShoulder'])\n",
    "    \n",
    "    t5=eval(row['X_RWrist'])\n",
    "    t6=eval(row['Y_RWrist'])\n",
    "    \n",
    "    t7=eval(row['X_LWrist'])\n",
    "    t8=eval(row['Y_LWrist'])\n",
    "    \n",
    "    t9=eval(row['X_RHip'])\n",
    "    t10=eval(row['Y_RHip'])\n",
    "    \n",
    "    t11=eval(row['X_LHip'])\n",
    "    t12=eval(row['Y_LHip'])\n",
    "    \n",
    "    t13=eval(row['X_RAnkle'])\n",
    "    t14=eval(row['Y_RAnkle'])\n",
    "    \n",
    "    t15=eval(row['X_LAnkle'])\n",
    "    t16=eval(row['Y_LAnkle'])\n",
    "    \n",
    "    \n",
    "    t17=eval(row['X_Rknee'])\n",
    "    t18=eval(row['Y_Rknee'])\n",
    "    \n",
    "    t19=eval(row['X_LKnee'])\n",
    "    t20=eval(row['Y_LKnee'])\n",
    "    \n",
    "    \n",
    "    \n",
    "    \n",
    "    pca = PCA(n_components=2)\n",
    "    principal_component=pca.fit_transform([t1,t2,t3,t4,t5,t6,t7,t8,t9,t10,t11,t12,t13,t14,t15,t16,t17,t18,t19,t20])\n",
    "    \n",
    "    df = df.append({'name':row['name'], 'principal_component':principal_component}, ignore_index=True) \n",
    "    df.to_csv('valid_pca.csv', index = False)"
   ]
  },
  {
   "cell_type": "markdown",
   "metadata": {},
   "source": [
    "#  t-SNE"
   ]
  },
  {
   "cell_type": "code",
   "execution_count": 52,
   "metadata": {},
   "outputs": [],
   "source": [
    "df = pd.DataFrame(columns=['name', 'tsne'])\n",
    "for index, row in dataset.iterrows():\n",
    "    \n",
    "    t1=eval(row['X_RShoulder'])\n",
    "    t2=eval(row['Y_RShoulder'])\n",
    "    \n",
    "    t3=eval(row['X_LShoulder'])\n",
    "    t4=eval(row['Y_LShoulder'])\n",
    "    \n",
    "    t5=eval(row['X_RWrist'])\n",
    "    t6=eval(row['Y_RWrist'])\n",
    "    \n",
    "    t7=eval(row['X_LWrist'])\n",
    "    t8=eval(row['Y_LWrist'])\n",
    "    \n",
    "    t9=eval(row['X_RHip'])\n",
    "    t10=eval(row['Y_RHip'])\n",
    "    \n",
    "    t11=eval(row['X_LHip'])\n",
    "    t12=eval(row['Y_LHip'])\n",
    "    \n",
    "    t13=eval(row['X_RAnkle'])\n",
    "    t14=eval(row['Y_RAnkle'])\n",
    "    \n",
    "    t15=eval(row['X_LAnkle'])\n",
    "    t16=eval(row['Y_LAnkle'])\n",
    "    \n",
    "    \n",
    "    t17=eval(row['X_Rknee'])\n",
    "    t18=eval(row['Y_Rknee'])\n",
    "    \n",
    "    t19=eval(row['X_LKnee'])\n",
    "    t20=eval(row['Y_LKnee'])\n",
    "    \n",
    "    \n",
    "    \n",
    "    tsne = TSNE(n_components=2, random_state=0)\n",
    "    tsne_rnaexp = tsne.fit_transform([t1,t2,t3,t4,t5,t6,t7,t8,t9,t10,t11,t12,t13,t14,t15,t16,t17,t18,t19,t20])\n",
    "    df = df.append({'name':row['name'], 'tsne':tsne_rnaexp}, ignore_index=True) \n",
    "    df.to_csv('vgfif_t-SNE.csv', index = False)"
   ]
  },
  {
   "cell_type": "code",
   "execution_count": 53,
   "metadata": {},
   "outputs": [
    {
     "data": {
      "text/plain": [
       "array([[ -10.878068 ,   10.538728 ],\n",
       "       [ -60.884026 ,  -75.59182  ],\n",
       "       [  -2.3361192,  -53.289074 ],\n",
       "       [ -61.38532  ,  -12.914634 ],\n",
       "       [ -28.737743 ,  126.297    ],\n",
       "       [   1.0666057, -123.55281  ],\n",
       "       [  45.14072  ,   -7.9478693],\n",
       "       [-140.79597  ,  -98.53055  ],\n",
       "       [  61.53168  ,  -83.24056  ],\n",
       "       [ -72.56306  , -140.39688  ],\n",
       "       [  15.984491 ,   63.578186 ],\n",
       "       [-160.85162  ,   68.945145 ],\n",
       "       [  85.96183  ,   51.922935 ],\n",
       "       [ -99.020836 ,  109.93635  ],\n",
       "       [-176.76413  ,   -8.681684 ],\n",
       "       [-117.18988  ,  -37.4202   ],\n",
       "       [ 108.82992  ,  -22.946203 ],\n",
       "       [  47.588097 ,  121.934814 ],\n",
       "       [-106.467834 ,   30.17689  ],\n",
       "       [ -50.613804 ,   59.328842 ]], dtype=float32)"
      ]
     },
     "execution_count": 53,
     "metadata": {},
     "output_type": "execute_result"
    }
   ],
   "source": [
    "df.tsne[0]"
   ]
  },
  {
   "cell_type": "code",
   "execution_count": 54,
   "metadata": {},
   "outputs": [],
   "source": [
    "df = pd.DataFrame(columns=['name', 'tsne'])\n",
    "for index, row in dataset2.iterrows():\n",
    "    \n",
    "    t1=eval(row['X_RShoulder'])\n",
    "    t2=eval(row['Y_RShoulder'])\n",
    "    \n",
    "    t3=eval(row['X_LShoulder'])\n",
    "    t4=eval(row['Y_LShoulder'])\n",
    "    \n",
    "    t5=eval(row['X_RWrist'])\n",
    "    t6=eval(row['Y_RWrist'])\n",
    "    \n",
    "    t7=eval(row['X_LWrist'])\n",
    "    t8=eval(row['Y_LWrist'])\n",
    "    \n",
    "    t9=eval(row['X_RHip'])\n",
    "    t10=eval(row['Y_RHip'])\n",
    "    \n",
    "    t11=eval(row['X_LHip'])\n",
    "    t12=eval(row['Y_LHip'])\n",
    "    \n",
    "    t13=eval(row['X_RAnkle'])\n",
    "    t14=eval(row['Y_RAnkle'])\n",
    "    \n",
    "    t15=eval(row['X_LAnkle'])\n",
    "    t16=eval(row['Y_LAnkle'])\n",
    "    \n",
    "    \n",
    "    t17=eval(row['X_Rknee'])\n",
    "    t18=eval(row['Y_Rknee'])\n",
    "    \n",
    "    t19=eval(row['X_LKnee'])\n",
    "    t20=eval(row['Y_LKnee'])\n",
    "    \n",
    "    \n",
    "    \n",
    "    tsne = TSNE(n_components=2, random_state=0)\n",
    "    tsne_rnaexp = tsne.fit_transform([t1,t2,t3,t4,t5,t6,t7,t8,t9,t10,t11,t12,t13,t14,t15,t16,t17,t18,t19,t20])\n",
    "    df = df.append({'name':row['name'], 'tsne':tsne_rnaexp}, ignore_index=True) \n",
    "    df.to_csv('valid_t-SNE.csv', index = False)"
   ]
  },
  {
   "cell_type": "markdown",
   "metadata": {},
   "source": [
    "# umap"
   ]
  },
  {
   "cell_type": "code",
   "execution_count": 4,
   "metadata": {},
   "outputs": [],
   "source": [
    "df = pd.DataFrame(columns=['name', 'umap'])\n",
    "for index, row in dataset.iterrows():\n",
    "    \n",
    "    t1=eval(row['X_RShoulder'])\n",
    "    t2=eval(row['Y_RShoulder'])\n",
    "    \n",
    "    t3=eval(row['X_LShoulder'])\n",
    "    t4=eval(row['Y_LShoulder'])\n",
    "    \n",
    "    t5=eval(row['X_RWrist'])\n",
    "    t6=eval(row['Y_RWrist'])\n",
    "    \n",
    "    t7=eval(row['X_LWrist'])\n",
    "    t8=eval(row['Y_LWrist'])\n",
    "    \n",
    "    t9=eval(row['X_RHip'])\n",
    "    t10=eval(row['Y_RHip'])\n",
    "    \n",
    "    t11=eval(row['X_LHip'])\n",
    "    t12=eval(row['Y_LHip'])\n",
    "    \n",
    "    t13=eval(row['X_RAnkle'])\n",
    "    t14=eval(row['Y_RAnkle'])\n",
    "    \n",
    "    t15=eval(row['X_LAnkle'])\n",
    "    t16=eval(row['Y_LAnkle'])\n",
    "    \n",
    "    \n",
    "    t17=eval(row['X_Rknee'])\n",
    "    t18=eval(row['Y_Rknee'])\n",
    "    \n",
    "    t19=eval(row['X_LKnee'])\n",
    "    t20=eval(row['Y_LKnee'])\n",
    "    \n",
    "    \n",
    "    \n",
    "    \n",
    "    \n",
    "    pca = PCA(n_components=2)\n",
    "    trans = umap.UMAP(n_neighbors=5, random_state=42).fit([t1,t2,t3,t4,t5,t6,t7,t8,t9,t10,t11,t12,t13,t14,t15,t16,t17,t18,t19,t20])\n",
    "    df = df.append({'name':row['name'], 'umap':trans.embedding_}, ignore_index=True) \n",
    "    df.to_csv('vgfit_umap.csv', index = False)"
   ]
  },
  {
   "cell_type": "code",
   "execution_count": 5,
   "metadata": {},
   "outputs": [
    {
     "data": {
      "text/html": [
       "<div>\n",
       "<style scoped>\n",
       "    .dataframe tbody tr th:only-of-type {\n",
       "        vertical-align: middle;\n",
       "    }\n",
       "\n",
       "    .dataframe tbody tr th {\n",
       "        vertical-align: top;\n",
       "    }\n",
       "\n",
       "    .dataframe thead th {\n",
       "        text-align: right;\n",
       "    }\n",
       "</style>\n",
       "<table border=\"1\" class=\"dataframe\">\n",
       "  <thead>\n",
       "    <tr style=\"text-align: right;\">\n",
       "      <th></th>\n",
       "      <th>name</th>\n",
       "      <th>umap</th>\n",
       "    </tr>\n",
       "  </thead>\n",
       "  <tbody>\n",
       "    <tr>\n",
       "      <th>0</th>\n",
       "      <td>angled leg presses</td>\n",
       "      <td>[[19.936533, 28.113985], [22.54131, 25.760834]...</td>\n",
       "    </tr>\n",
       "    <tr>\n",
       "      <th>1</th>\n",
       "      <td>arnold press</td>\n",
       "      <td>[[11.501856, -2.3525937], [-6.8977056, 14.5873...</td>\n",
       "    </tr>\n",
       "    <tr>\n",
       "      <th>2</th>\n",
       "      <td>back extensions</td>\n",
       "      <td>[[6.81427, 6.456781], [14.33267, 9.083927], [7...</td>\n",
       "    </tr>\n",
       "    <tr>\n",
       "      <th>3</th>\n",
       "      <td>back presses</td>\n",
       "      <td>[[7.3784294, 4.0699844], [-16.862707, -9.14402...</td>\n",
       "    </tr>\n",
       "    <tr>\n",
       "      <th>4</th>\n",
       "      <td>bar triceps extensions</td>\n",
       "      <td>[[-0.5813317, -1.0272713], [3.0273423, -1.2570...</td>\n",
       "    </tr>\n",
       "  </tbody>\n",
       "</table>\n",
       "</div>"
      ],
      "text/plain": [
       "                     name                                               umap\n",
       "0      angled leg presses  [[19.936533, 28.113985], [22.54131, 25.760834]...\n",
       "1            arnold press  [[11.501856, -2.3525937], [-6.8977056, 14.5873...\n",
       "2         back extensions  [[6.81427, 6.456781], [14.33267, 9.083927], [7...\n",
       "3            back presses  [[7.3784294, 4.0699844], [-16.862707, -9.14402...\n",
       "4  bar triceps extensions  [[-0.5813317, -1.0272713], [3.0273423, -1.2570..."
      ]
     },
     "execution_count": 5,
     "metadata": {},
     "output_type": "execute_result"
    }
   ],
   "source": [
    "df.head()"
   ]
  },
  {
   "cell_type": "code",
   "execution_count": 6,
   "metadata": {},
   "outputs": [
    {
     "data": {
      "text/plain": [
       "array([[19.936533 , 28.113985 ],\n",
       "       [22.54131  , 25.760834 ],\n",
       "       [20.09342  , 27.866024 ],\n",
       "       [22.863808 , 26.648258 ],\n",
       "       [ 4.266636 , 15.766541 ],\n",
       "       [22.377388 , 26.280746 ],\n",
       "       [ 3.2597964, 14.3827915],\n",
       "       [23.359344 , 26.577751 ],\n",
       "       [ 3.8806682, 15.599909 ],\n",
       "       [22.820562 , 26.179722 ],\n",
       "       [ 3.4249718, 15.217215 ],\n",
       "       [23.235678 , 26.159601 ],\n",
       "       [ 3.714795 , 14.212871 ],\n",
       "       [20.26147  , 27.530983 ],\n",
       "       [ 3.3470294, 14.099454 ],\n",
       "       [20.724346 , 27.65642  ],\n",
       "       [ 4.223437 , 15.203635 ],\n",
       "       [20.971766 , 27.002325 ],\n",
       "       [ 3.797658 , 14.827097 ],\n",
       "       [21.288042 , 26.778727 ]], dtype=float32)"
      ]
     },
     "execution_count": 6,
     "metadata": {},
     "output_type": "execute_result"
    }
   ],
   "source": [
    "df.umap[0]"
   ]
  },
  {
   "cell_type": "code",
   "execution_count": 7,
   "metadata": {},
   "outputs": [],
   "source": [
    "df = pd.DataFrame(columns=['name', 'umap'])\n",
    "for index, row in dataset2.iterrows():\n",
    "    \n",
    "    t1=eval(row['X_RShoulder'])\n",
    "    t2=eval(row['Y_RShoulder'])\n",
    "    \n",
    "    t3=eval(row['X_LShoulder'])\n",
    "    t4=eval(row['Y_LShoulder'])\n",
    "    \n",
    "    t5=eval(row['X_RWrist'])\n",
    "    t6=eval(row['Y_RWrist'])\n",
    "    \n",
    "    t7=eval(row['X_LWrist'])\n",
    "    t8=eval(row['Y_LWrist'])\n",
    "    \n",
    "    t9=eval(row['X_RHip'])\n",
    "    t10=eval(row['Y_RHip'])\n",
    "    \n",
    "    t11=eval(row['X_LHip'])\n",
    "    t12=eval(row['Y_LHip'])\n",
    "    \n",
    "    t13=eval(row['X_RAnkle'])\n",
    "    t14=eval(row['Y_RAnkle'])\n",
    "    \n",
    "    t15=eval(row['X_LAnkle'])\n",
    "    t16=eval(row['Y_LAnkle'])\n",
    "    \n",
    "    \n",
    "    t17=eval(row['X_Rknee'])\n",
    "    t18=eval(row['Y_Rknee'])\n",
    "    \n",
    "    t19=eval(row['X_LKnee'])\n",
    "    t20=eval(row['Y_LKnee'])\n",
    "    \n",
    "    \n",
    "    \n",
    "    \n",
    "    \n",
    "    pca = PCA(n_components=2)\n",
    "    trans = umap.UMAP(n_neighbors=5, random_state=42).fit([t1,t2,t3,t4,t5,t6,t7,t8,t9,t10,t11,t12,t13,t14,t15,t16,t17,t18,t19,t20])\n",
    "    df = df.append({'name':row['name'], 'umap':trans.embedding_}, ignore_index=True) \n",
    "    df.to_csv('valid_umap.csv', index = False)"
   ]
  },
  {
   "cell_type": "code",
   "execution_count": null,
   "metadata": {},
   "outputs": [],
   "source": []
  }
 ],
 "metadata": {
  "kernelspec": {
   "display_name": "Python 3",
   "language": "python",
   "name": "python3"
  },
  "language_info": {
   "codemirror_mode": {
    "name": "ipython",
    "version": 3
   },
   "file_extension": ".py",
   "mimetype": "text/x-python",
   "name": "python",
   "nbconvert_exporter": "python",
   "pygments_lexer": "ipython3",
   "version": "3.6.7"
  },
  "varInspector": {
   "cols": {
    "lenName": 16,
    "lenType": 16,
    "lenVar": 40
   },
   "kernels_config": {
    "python": {
     "delete_cmd_postfix": "",
     "delete_cmd_prefix": "del ",
     "library": "var_list.py",
     "varRefreshCmd": "print(var_dic_list())"
    },
    "r": {
     "delete_cmd_postfix": ") ",
     "delete_cmd_prefix": "rm(",
     "library": "var_list.r",
     "varRefreshCmd": "cat(var_dic_list()) "
    }
   },
   "types_to_exclude": [
    "module",
    "function",
    "builtin_function_or_method",
    "instance",
    "_Feature"
   ],
   "window_display": false
  }
 },
 "nbformat": 4,
 "nbformat_minor": 4
}
