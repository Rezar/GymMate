{
  "nbformat": 4,
  "nbformat_minor": 0,
  "metadata": {
    "colab": {
      "name": "Untitled42.ipynb",
      "provenance": []
    },
    "kernelspec": {
      "name": "python3",
      "display_name": "Python 3"
    },
    "language_info": {
      "name": "python"
    }
  },
  "cells": [
    {
      "cell_type": "code",
      "execution_count": null,
      "metadata": {
        "id": "M-f3kN_KPwmx"
      },
      "outputs": [],
      "source": [
        "from google.colab import drive\n",
        "drive.mount('/content/drive')"
      ]
    },
    {
      "cell_type": "code",
      "source": [
        "import pandas as pd\n",
        "dataset = pd.read_csv('/content/drive/MyDrive/workoutMOVIES/Data/Data Label (Y convert)/60.csv')"
      ],
      "metadata": {
        "id": "w1XCM6xDPz79"
      },
      "execution_count": null,
      "outputs": []
    },
    {
      "cell_type": "markdown",
      "source": [
        "# X Axis"
      ],
      "metadata": {
        "id": "kBrDrUjzQfcO"
      }
    },
    {
      "cell_type": "code",
      "source": [
        "import numpy as np\n",
        "import matplotlib.pyplot as plt\n",
        "for i in range(len(dataset)):\n",
        "  print(i)\n",
        "  x1=eval(dataset.xX_left_shoulder[i])\n",
        "  x2=eval(dataset.xX_right_shoulder[i])\n",
        "  x3=eval(dataset.xX_left_elbow[i])\n",
        "  x4=eval(dataset.xX_right_elbow[i])\n",
        "  x5=eval(dataset.xX_left_wrist[i])\n",
        "  x6=eval(dataset.xX_right_wrist[i])\n",
        "  x7=eval(dataset.xX_left_hip[i])\n",
        "  x8=eval(dataset.xX_right_hip[i])\n",
        "  x9=eval(dataset.xX_left_knee[i])\n",
        "  x10=eval(dataset.xX_right_knee[i])\n",
        "  x11=eval(dataset.xX_left_ankle[i])\n",
        "  x12=eval(dataset.xX_right_ankle[i])\n",
        "  fig, (ax1, ax2,ax3, ax4,ax5, ax6,ax7, ax8,ax9, ax10,ax11, ax12) = plt.subplots(12)\n",
        "  fig.suptitle(f'X Axis for {dataset.name[i]} With {len(eval(dataset.xX_right_hip[i]))} frames')\n",
        "  fig.set_size_inches(8, 6)\n",
        "\n",
        "  ax1.plot(x1,'k')\n",
        "  ax1.set_yticks([])\n",
        "  ax1.set_xticks([])\n",
        "  ax1.set(ylabel='Lsh')\n",
        "  ax2.plot(x2,'k')\n",
        "  ax2.set_yticks([])\n",
        "  ax2.set_xticks([])\n",
        "  ax2.set(ylabel='Rsh')\n",
        "  ax3.plot(x3,'k')\n",
        "  ax3.set_yticks([])\n",
        "  ax3.set_xticks([])\n",
        "  ax3.set(ylabel='Lel')\n",
        "  ax4.plot(x4,'k')\n",
        "  ax4.set_yticks([])\n",
        "  ax4.set_xticks([])\n",
        "  ax4.set(ylabel='Rel')\n",
        "\n",
        "  ax5.plot(x5,'k')\n",
        "  ax5.set_yticks([])\n",
        "  ax5.set_xticks([])\n",
        "  ax5.set(ylabel='Lwr')\n",
        "\n",
        "  ax6.plot(x6,'k')\n",
        "  ax6.set_yticks([])\n",
        "  ax6.set_xticks([])\n",
        "  ax6.set(ylabel='Rwi')\n",
        "\n",
        "  ax7.plot(x7,'k')\n",
        "  ax7.set_yticks([])\n",
        "  ax7.set_xticks([])\n",
        "  ax7.set(ylabel='Lhip')\n",
        "\n",
        "  ax8.plot(x8,'k')\n",
        "  ax8.set_yticks([])\n",
        "  ax8.set_xticks([])\n",
        "  ax8.set(ylabel='Rhip')\n",
        "\n",
        "  ax9.plot(x9,'k')\n",
        "  ax9.set_yticks([])\n",
        "  ax9.set_xticks([])\n",
        "  ax9.set(ylabel='Lknee')\n",
        "\n",
        "  ax10.plot(x10,'k')\n",
        "  ax10.set_yticks([])\n",
        "  ax10.set_xticks([])\n",
        "  ax10.set(ylabel='RKnee')\n",
        "\n",
        "  ax11.plot(x11,'k')\n",
        "  ax11.set_yticks([])\n",
        "  ax11.set_xticks([])\n",
        "  ax11.set(ylabel='Lank')\n",
        "\n",
        "  ax12.plot(x12,'k')\n",
        "  ax12.set_yticks([])\n",
        "  ax12.set_xticks([])\n",
        "  ax12.set(ylabel='Rank')\n",
        "      \n",
        "  plt.savefig(f'/content/drive/MyDrive/plot/test/{dataset.name[i]}_X.png',dpi=100)"
      ],
      "metadata": {
        "id": "GPTN62waP3Gr"
      },
      "execution_count": null,
      "outputs": []
    },
    {
      "cell_type": "markdown",
      "source": [
        "# Y Axis"
      ],
      "metadata": {
        "id": "kPMf0FuoQZX2"
      }
    },
    {
      "cell_type": "code",
      "source": [
        "for i in range(len(dataset)):\n",
        "  print(i)\n",
        "  x1=eval(dataset.yY_left_shoulder[i])\n",
        "  x2=eval(dataset.yY_right_shoulder[i])\n",
        "  x3=eval(dataset.yY_left_elbow[i])\n",
        "  x4=eval(dataset.yY_right_elbow[i])\n",
        "  x5=eval(dataset.yY_left_wrist[i])\n",
        "  x6=eval(dataset.yY_right_wrist[i])\n",
        "  x7=eval(dataset.yY_left_hip[i])\n",
        "  x8=eval(dataset.yY_right_hip[i])\n",
        "  x9=eval(dataset.yY_left_knee[i])\n",
        "  x10=eval(dataset.yY_right_knee[i])\n",
        "  x11=eval(dataset.yY_left_ankle[i])\n",
        "  x12=eval(dataset.yY_right_ankle[i])\n",
        "  fig, (ax1, ax2,ax3, ax4,ax5, ax6,ax7, ax8,ax9, ax10,ax11, ax12) = plt.subplots(12)\n",
        "  fig.suptitle(f'X Axis for {dataset.name[i]} With {len(eval(dataset.xX_right_hip[i]))} frames')\n",
        "  fig.set_size_inches(8, 6)\n",
        "\n",
        "  ax1.plot(x1,'k')\n",
        "  ax1.set_yticks([])\n",
        "  ax1.set_xticks([])\n",
        "  ax1.set(ylabel='Lsh')\n",
        "  ax2.plot(x2,'k')\n",
        "  ax2.set_yticks([])\n",
        "  ax2.set_xticks([])\n",
        "  ax2.set(ylabel='Rsh')\n",
        "  ax3.plot(x3,'k')\n",
        "  ax3.set_yticks([])\n",
        "  ax3.set_xticks([])\n",
        "  ax3.set(ylabel='Lel')\n",
        "  ax4.plot(x4,'k')\n",
        "  ax4.set_yticks([])\n",
        "  ax4.set_xticks([])\n",
        "  ax4.set(ylabel='Rel')\n",
        "\n",
        "  ax5.plot(x5,'k')\n",
        "  ax5.set_yticks([])\n",
        "  ax5.set_xticks([])\n",
        "  ax5.set(ylabel='Lwr')\n",
        "\n",
        "  ax6.plot(x6,'k')\n",
        "  ax6.set_yticks([])\n",
        "  ax6.set_xticks([])\n",
        "  ax6.set(ylabel='Rwi')\n",
        "\n",
        "  ax7.plot(x7,'k')\n",
        "  ax7.set_yticks([])\n",
        "  ax7.set_xticks([])\n",
        "  ax7.set(ylabel='Lhip')\n",
        "\n",
        "  ax8.plot(x8,'k')\n",
        "  ax8.set_yticks([])\n",
        "  ax8.set_xticks([])\n",
        "  ax8.set(ylabel='Rhip')\n",
        "\n",
        "  ax9.plot(x9,'k')\n",
        "  ax9.set_yticks([])\n",
        "  ax9.set_xticks([])\n",
        "  ax9.set(ylabel='Lknee')\n",
        "\n",
        "  ax10.plot(x10,'k')\n",
        "  ax10.set_yticks([])\n",
        "  ax10.set_xticks([])\n",
        "  ax10.set(ylabel='RKnee')\n",
        "\n",
        "  ax11.plot(x11,'k')\n",
        "  ax11.set_yticks([])\n",
        "  ax11.set_xticks([])\n",
        "  ax11.set(ylabel='Lank')\n",
        "\n",
        "  ax12.plot(x12,'k')\n",
        "  ax12.set_yticks([])\n",
        "  ax12.set_xticks([])\n",
        "  ax12.set(ylabel='Rank')\n",
        "      \n",
        "  plt.savefig(f'/content/drive/MyDrive/plot/test/{dataset.name[i]}_Y.png',dpi=100)"
      ],
      "metadata": {
        "id": "GU0OLw4wQBa7"
      },
      "execution_count": null,
      "outputs": []
    }
  ]
}