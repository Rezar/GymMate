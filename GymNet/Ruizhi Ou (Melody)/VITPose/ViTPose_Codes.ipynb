{
 "cells": [
  {
   "cell_type": "markdown",
   "metadata": {
    "id": "aSv8tM6k5fgE"
   },
   "source": [
    "Melody Joy (Ruizhi Ou)\n",
    "*Last edited: 3/14/2023*"
   ]
  },
  {
   "cell_type": "markdown",
   "metadata": {},
   "source": [
    "# ViTPose"
   ]
  },
  {
   "cell_type": "markdown",
   "metadata": {
    "id": "K6gQhBgC1sJg"
   },
   "source": [
    "The following are steps to run [ViTPose](https://github.com/ViTAE-Transformer/ViTPose) models. ViTPose: Simple Vision Transformer Baselines for Human Pose Estimation.\n",
    "\n",
    "Please refer to the [Readme file](https://github.com/Rezar/GymMate/blob/main/GymNet/Ruizhi%20Ou%20(Melody)/Readme.md) when running the codes."
   ]
  },
  {
   "cell_type": "markdown",
   "metadata": {
    "id": "m_PkBwkRAgmU"
   },
   "source": [
    "Besure to run the codes with a CUDA enabled machine or platform.\n",
    "\n",
    "If you work with Google Colab, go to \"Runtime\" (on top left) --> \"Change Runtime Type\" and **enble GPU** before you proceed."
   ]
  },
  {
   "cell_type": "markdown",
   "metadata": {},
   "source": [
    "![Google Colab Snapshot](output/google_colab-2.png)"
   ]
  },
  {
   "cell_type": "markdown",
   "metadata": {},
   "source": [
    "Please install the following in the given order if you haven't done so. "
   ]
  },
  {
   "cell_type": "markdown",
   "metadata": {
    "id": "gZK31FOfWElF"
   },
   "source": [
    "# Prepare for *conda* Installation in Google Colab\n",
    "Reference: https://towardsdatascience.com/conda-google-colab-75f7c867a522\n",
    "\n",
    "Or if you don't work with Google Colab, you could skip this step."
   ]
  },
  {
   "cell_type": "code",
   "execution_count": null,
   "metadata": {
    "colab": {
     "base_uri": "https://localhost:8080/"
    },
    "id": "8urz9027WGxy",
    "outputId": "3f08400f-b134-4365-a529-e22acac46200",
    "scrolled": false
   },
   "outputs": [],
   "source": [
    "# returns the absolute path to the default Python executable\n",
    "!which python # should return /usr/local/bin/python\n",
    "\n",
    "# check the version number of Google Colab's default Python\n",
    "!python --version\n",
    "\n",
    "# Need to install a version of Miniconda that is compatible with \n",
    "# Python 3.8.10 (or your Python version) by default.\n",
    "# check to see if the PYTHONPATH variable has been set\n",
    "!echo $PYTHONPATH\n",
    "\n",
    "# unset the PYTHONPATH variable before installing Miniconda as it can cause problems \n",
    "# if there are packages installed and accessible via directories included in the PYTHONPATH \n",
    "# that are not compatible with the version of Python included with Miniconda\n",
    "%env PYTHONPATH=/usr/env/python"
   ]
  },
  {
   "cell_type": "markdown",
   "metadata": {
    "id": "Gm-fXoWOVtS_"
   },
   "source": [
    "# Install *conda* using Miniconda\n",
    "You could install full version of Conda if you wish, or lite version with Miniconda.\n",
    "\n",
    "https://docs.conda.io/en/latest/miniconda.html\n",
    "\n",
    "https://towardsdatascience.com/conda-google-colab-75f7c867a522\n",
    "\n",
    "More recent versions (i.e., 4.5.12+) of Miniconda target either Python 3.7 or Python 3.8 by default. Here we're installing Miniconda 4.5.12 version."
   ]
  },
  {
   "cell_type": "markdown",
   "metadata": {
    "id": "cXjAEAlTgHKR"
   },
   "source": [
    "### 1. Installation of Miniconda"
   ]
  },
  {
   "cell_type": "code",
   "execution_count": null,
   "metadata": {
    "colab": {
     "base_uri": "https://localhost:8080/"
    },
    "id": "zfbcs0OWYq_1",
    "outputId": "da6ceda2-8738-4317-948f-43f37049302c",
    "scrolled": true
   },
   "outputs": [],
   "source": [
    "# Could replace the Miniconda3 version \"4.5.12\" to your desired version.\n",
    "%%bash\n",
    "MINICONDA_INSTALLER_SCRIPT=Miniconda3-4.5.12-Linux-x86_64.sh\n",
    "MINICONDA_PREFIX=/usr/local\n",
    "wget https://repo.continuum.io/miniconda/$MINICONDA_INSTALLER_SCRIPT\n",
    "chmod +x $MINICONDA_INSTALLER_SCRIPT\n",
    "./$MINICONDA_INSTALLER_SCRIPT -b -f -p $MINICONDA_PREFIX"
   ]
  },
  {
   "cell_type": "code",
   "execution_count": null,
   "metadata": {
    "colab": {
     "base_uri": "https://localhost:8080/"
    },
    "id": "v6Fiby9lZPQh",
    "outputId": "3c4784ad-bbdb-4219-a652-95f504c2fe2f"
   },
   "outputs": [],
   "source": [
    "# check if Conda executable is available\n",
    "!which conda # should return /usr/local/bin/conda\n",
    "\n",
    "# version number\n",
    "!conda --version # should return 4.5.12"
   ]
  },
  {
   "cell_type": "markdown",
   "metadata": {
    "id": "AYa8g1iWZstf"
   },
   "source": [
    "### 2. Updating *conda*"
   ]
  },
  {
   "cell_type": "code",
   "execution_count": null,
   "metadata": {
    "colab": {
     "base_uri": "https://localhost:8080/"
    },
    "id": "Ra01dGa6Zvm3",
    "outputId": "f489ced1-e89d-43e4-d94f-79a3cdd94087"
   },
   "outputs": [],
   "source": [
    "# conda install command below actually updates Conda to the most recent version whilst holding the Python version fixed\n",
    "# conda update command then updates all of Conda’s dependencies to their most recent versions\n",
    "%%bash\n",
    "\n",
    "# Replace \"3.9.16\" with your current Python version\n",
    "conda install --channel defaults conda python=3.9.16 --yes\n",
    "conda update --channel defaults --all --yes"
   ]
  },
  {
   "cell_type": "code",
   "execution_count": null,
   "metadata": {
    "colab": {
     "base_uri": "https://localhost:8080/"
    },
    "id": "aJgIsfbrf0QH",
    "outputId": "7443cf4a-bf8a-48da-9cd7-5674311754d2"
   },
   "outputs": [],
   "source": [
    "# check the version number for Conda\n",
    "!conda --version\n",
    "!python --version"
   ]
  },
  {
   "cell_type": "markdown",
   "metadata": {
    "id": "518tfdvwgNk5"
   },
   "source": [
    "### 3. Appending to the *sys.path*"
   ]
  },
  {
   "cell_type": "code",
   "execution_count": null,
   "metadata": {
    "colab": {
     "base_uri": "https://localhost:8080/"
    },
    "id": "wrZww5L0gnso",
    "outputId": "36e69fb3-3b4d-4849-dc7a-70f1a9f882ca"
   },
   "outputs": [],
   "source": [
    "# check the current list of directories that Python will search when looking for modules to import\n",
    "import sys\n",
    "sys.path"
   ]
  },
  {
   "cell_type": "code",
   "execution_count": null,
   "metadata": {
    "id": "vrDw4_DpgymW"
   },
   "outputs": [],
   "source": [
    "# add the directory where Conda will install packages to the list of directories \n",
    "# that Python will search when looking for modules to import\n",
    "import sys\n",
    "_ = (sys.path\n",
    "        .append(\"/usr/local/lib/python3.8/site-packages\"))"
   ]
  },
  {
   "cell_type": "markdown",
   "metadata": {
    "id": "h5HeOMdwhTQU"
   },
   "source": [
    "### 4. Installing packages"
   ]
  },
  {
   "cell_type": "code",
   "execution_count": null,
   "metadata": {
    "colab": {
     "base_uri": "https://localhost:8080/"
    },
    "id": "vhfSGsUZs1cY",
    "outputId": "e072593d-6832-4045-d1ad-5706be7a47d6"
   },
   "outputs": [],
   "source": [
    "# Upgrade Conda\n",
    "# <Attention> Requires to confirm with \"y\" to proceed when half-way\n",
    "!conda upgrade -n base conda"
   ]
  },
  {
   "cell_type": "code",
   "execution_count": null,
   "metadata": {
    "colab": {
     "background_save": true,
     "base_uri": "https://localhost:8080/"
    },
    "id": "qpEwZjrGhe1X",
    "outputId": "bf4742ef-efd8-4b45-c484-05a851dc8d33"
   },
   "outputs": [],
   "source": [
    "# <Attention> This section is time consuming\n",
    "!conda install --channel conda-forge featuretools --yes"
   ]
  },
  {
   "cell_type": "markdown",
   "metadata": {
    "id": "fhiiKDTqVO9F"
   },
   "source": [
    "# Install *mim*\n",
    "https://github.com/open-mmlab/mim/blob/main/docs/en/installation.md\n",
    "\n",
    "MIM provides a unified interface for launching and installing OpenMMLab projects and their extensions, and managing the OpenMMLab model zoo. Here are the instructions for installation.\n",
    "\n",
    "Just follow the installation instructions. MIM is required to later install MMCV-full and MMDet."
   ]
  },
  {
   "cell_type": "markdown",
   "metadata": {
    "id": "RELStcvnVY8y"
   },
   "source": [
    "### Prepare Environment\n",
    "### 1.\tCreate a conda virtual environment and activate it."
   ]
  },
  {
   "cell_type": "markdown",
   "metadata": {
    "id": "gF3oczTgUJkV"
   },
   "source": [
    "# Replace \"3.10\" with your python version\n",
    "!conda create -n open-mmlab python=3.10 -y"
   ]
  },
  {
   "cell_type": "markdown",
   "metadata": {
    "id": "8hadfBCChsKY"
   },
   "source": [
    "### Activate the virtual environment"
   ]
  },
  {
   "cell_type": "code",
   "execution_count": null,
   "metadata": {
    "id": "9giQK1hgmB28"
   },
   "outputs": [],
   "source": [
    "# To enter the activated virtual environment again\n",
    "!source activate open-mmlab"
   ]
  },
  {
   "cell_type": "code",
   "execution_count": null,
   "metadata": {
    "id": "hy-e_FRSi-eh"
   },
   "outputs": [],
   "source": [
    "# Create a virtual environment called \"open-mmlab-venv\"\n",
    "# https://colab.research.google.com/drive/1Vg005uKhgt-ZwyQ11-BGceqY0q07qIzF#scrollTo=0a7lA-T3zgXt\n",
    "!pip3 install virtualenv\n",
    "!virtualenv open-mmlab-venv"
   ]
  },
  {
   "cell_type": "code",
   "execution_count": null,
   "metadata": {
    "id": "PnX_bXbEE0Hc"
   },
   "outputs": [],
   "source": [
    "!source /open-mmlab-venv/bin/activate"
   ]
  },
  {
   "cell_type": "markdown",
   "metadata": {
    "id": "2nk_FNLhhqiY"
   },
   "source": [
    "### 2. Install PyTorch and torchvision following the official instructions (PyTorch 1.9.1)\n",
    "\n"
   ]
  },
  {
   "cell_type": "markdown",
   "metadata": {
    "id": "H4chqIse-Ck9"
   },
   "source": [
    "Given the version of PyTorch (1.9.1), select the code with CUDA for that version.\n",
    "https://pytorch.org/get-started/previous-versions/"
   ]
  },
  {
   "cell_type": "code",
   "execution_count": null,
   "metadata": {
    "id": "S4Rizcv5huRm"
   },
   "outputs": [],
   "source": [
    "# CUDA 11.8 (default on Google Colab)\n",
    "\n",
    "# https://docs.nvidia.com/deeplearning/frameworks/pytorch-release-notes/rel-22-09.html#rel-22-09\n",
    "# PyTorch version compatible to CUDA 11.8 should refer to Release 22.09 ↑\n",
    "# PyTorch: 1.13.0a0+d0d6b1f\n",
    "\n",
    "# <Attention> Requires to confirm with \"y\" to proceed when half-way\n",
    "!conda install pytorch torchvision torchaudio pytorch-cuda=11.7 -c pytorch -c nvidia # no 11.8 available"
   ]
  },
  {
   "cell_type": "code",
   "execution_count": null,
   "metadata": {
    "id": "8g-x1X2LWckY"
   },
   "outputs": [],
   "source": [
    "# Check the CUDA version\n",
    "!nvcc --version"
   ]
  },
  {
   "cell_type": "markdown",
   "metadata": {
    "id": "tEEeQXPflNDT"
   },
   "source": [
    "### Install MIM\n",
    "Install from source"
   ]
  },
  {
   "cell_type": "code",
   "execution_count": null,
   "metadata": {
    "colab": {
     "base_uri": "https://localhost:8080/"
    },
    "id": "466saEhdgShS",
    "outputId": "7c7ef4d7-64c9-422e-cc71-d7df24fcaa89"
   },
   "outputs": [],
   "source": [
    "!git clone https://github.com/open-mmlab/mim.git"
   ]
  },
  {
   "cell_type": "code",
   "execution_count": null,
   "metadata": {
    "colab": {
     "base_uri": "https://localhost:8080/"
    },
    "id": "1cTelrO1gUMa",
    "outputId": "94eaa48d-6704-4d82-8a1a-096683e4af72"
   },
   "outputs": [],
   "source": [
    "%cd mim"
   ]
  },
  {
   "cell_type": "code",
   "execution_count": null,
   "metadata": {
    "colab": {
     "base_uri": "https://localhost:8080/"
    },
    "id": "QVRQmG9XgW5S",
    "outputId": "209bf9b5-9444-4884-8777-369e71a562b2"
   },
   "outputs": [],
   "source": [
    "!pip install -e .\n",
    "# python setup.py develop or python setup.py install"
   ]
  },
  {
   "cell_type": "markdown",
   "metadata": {
    "id": "6I65p0O_uGhx"
   },
   "source": [
    "# Install *mmcv-full*\n",
    "https://github.com/open-mmlab/mmcv\n",
    "Please install mmcv>=1.3.17, <=1.5.0. It works on version: **1.5.0**.\n",
    "\n",
    "Install **mmcv-full**, not mmcv.\n",
    "\n",
    "Build mmcv from source\n",
    "https://mmcv.readthedocs.io/en/latest/get_started/build.html\n",
    "\n",
    "Prerequisites:\n",
    "\n",
    "Git\n",
    "\n",
    "> During installation, tick add git to Path.\n",
    "\n",
    "\n",
    "Visual Studio Community 2019 (mine: 2022)\n",
    "\n",
    "\n",
    "> A compiler for C++ and CUDA codes.\n",
    "\n",
    "Miniconda (free minimal installer for conda)\n",
    "\n",
    "> Official distributions of Python should work too.\n",
    "\n",
    "CUDA 10.2\n",
    "> Not required for building CPU version.\n",
    "> Customize the installation if necessary. As a recommendation, skip the driver installation if a newer version is already installed."
   ]
  },
  {
   "cell_type": "code",
   "execution_count": null,
   "metadata": {
    "colab": {
     "base_uri": "https://localhost:8080/"
    },
    "id": "DGaK9ZhlMpUv",
    "outputId": "87fcf52a-66c6-466c-c98a-d328ae634e3c"
   },
   "outputs": [],
   "source": [
    "# 1. Clone the repo\n",
    "!git clone https://github.com/open-mmlab/mmcv.git\n",
    "%cd mmcv"
   ]
  },
  {
   "cell_type": "code",
   "execution_count": null,
   "metadata": {
    "colab": {
     "base_uri": "https://localhost:8080/"
    },
    "id": "3v-mPDomM_xH",
    "outputId": "73769a21-e634-4110-9dfe-bf2cbb53f153"
   },
   "outputs": [],
   "source": [
    "# 2. Install ninja and psutil to speed up the compilation\n",
    "!pip install -r requirements/optional.txt"
   ]
  },
  {
   "cell_type": "code",
   "execution_count": null,
   "metadata": {
    "colab": {
     "base_uri": "https://localhost:8080/"
    },
    "id": "a4sSn8JJNRXT",
    "outputId": "9c9bad27-d0a4-4f35-f90e-48fd3d2bb9cf"
   },
   "outputs": [],
   "source": [
    "# 3. Check the nvcc version (requires 9.2+)\n",
    "!nvcc --version\n",
    "\n",
    "# 4. Check the gcc version (requires 5.4+)\n",
    "!gcc --version"
   ]
  },
  {
   "cell_type": "code",
   "execution_count": null,
   "metadata": {
    "colab": {
     "base_uri": "https://localhost:8080/"
    },
    "id": "7nGdCcZiNkEq",
    "outputId": "7964a083-52d1-4873-b1f7-4aef5e24eaf8"
   },
   "outputs": [],
   "source": [
    "# 5. Start building (takes 10+ min)\n",
    "!MMCV_WITH_OPS=1 pip install -e . -v"
   ]
  },
  {
   "cell_type": "code",
   "execution_count": null,
   "metadata": {
    "colab": {
     "base_uri": "https://localhost:8080/"
    },
    "id": "CX6n_wZjNsle",
    "outputId": "ce3a5084-8263-4d65-fe0f-07d8958c7b2c"
   },
   "outputs": [],
   "source": [
    "# 6. Validate the installation\n",
    "!python .dev_scripts/check_installation.py"
   ]
  },
  {
   "cell_type": "markdown",
   "metadata": {
    "id": "2yQHygXPNHPL"
   },
   "source": [
    "Change the version of mmcv-full to 1.5.0"
   ]
  },
  {
   "cell_type": "code",
   "execution_count": null,
   "metadata": {
    "colab": {
     "base_uri": "https://localhost:8080/"
    },
    "id": "Vv4pkp1KvCd6",
    "outputId": "170e0594-cb4f-4f1b-84fc-805f20af7fef"
   },
   "outputs": [],
   "source": [
    "# Install a specific version of mmcv-full\n",
    "# <Attention> Very time consuming\n",
    "# Might report error, just ignore it\n",
    "!mim install mmcv-full==1.5.0"
   ]
  },
  {
   "cell_type": "markdown",
   "metadata": {
    "id": "puYaUG_n3Xg1"
   },
   "source": [
    "# Install *mmdet* \n",
    "MMDetection works on Linux, Windows and macOS. It requires Python 3.7+, CUDA 9.2+ and PyTorch 1.5+.\n",
    "\n",
    "https://mmdetection.readthedocs.io/en/stable/get_started.html\n",
    "\n",
    "https://github.com/open-mmlab/mmdetection"
   ]
  },
  {
   "cell_type": "code",
   "execution_count": null,
   "metadata": {
    "colab": {
     "base_uri": "https://localhost:8080/"
    },
    "id": "ftUaCFPTFl_d",
    "outputId": "57dd734f-a7ab-41a2-db71-1af98843ce1c"
   },
   "outputs": [],
   "source": [
    "%cd .."
   ]
  },
  {
   "cell_type": "code",
   "execution_count": null,
   "metadata": {
    "colab": {
     "base_uri": "https://localhost:8080/"
    },
    "id": "rdu2WftK3fZ9",
    "outputId": "a2292751-4398-4edb-a6fb-70991bcca909"
   },
   "outputs": [],
   "source": [
    "!git clone https://github.com/open-mmlab/mmdetection.git"
   ]
  },
  {
   "cell_type": "code",
   "execution_count": null,
   "metadata": {
    "colab": {
     "base_uri": "https://localhost:8080/"
    },
    "id": "UIO4myxPFt6J",
    "outputId": "85c942f9-679e-46f2-c5b9-136b4e481e99"
   },
   "outputs": [],
   "source": [
    "%cd mmdetection"
   ]
  },
  {
   "cell_type": "code",
   "execution_count": null,
   "metadata": {
    "colab": {
     "base_uri": "https://localhost:8080/"
    },
    "id": "WPMDiZpJFvVY",
    "outputId": "2b49a537-e73f-4470-f590-076c3fce9c46"
   },
   "outputs": [],
   "source": [
    "!pip install -v -e .\n",
    "# \"-v\" means verbose, or more output\n",
    "# \"-e\" means installing a project in editable mode,\n",
    "# thus any local modifications made to the code will take effect without reinstallation."
   ]
  },
  {
   "cell_type": "markdown",
   "metadata": {
    "id": "Kz3qyys7Gi6P"
   },
   "source": [
    "### Verify the installation"
   ]
  },
  {
   "cell_type": "code",
   "execution_count": null,
   "metadata": {
    "colab": {
     "base_uri": "https://localhost:8080/"
    },
    "id": "PbxGFz04F9nn",
    "outputId": "20d101cd-9ab6-40da-ac59-cf0b7a42c291"
   },
   "outputs": [],
   "source": [
    "# 1. download config and checkpoint files\n",
    "!mim download mmdet --config yolov3_mobilenetv2_320_300e_coco --dest ."
   ]
  },
  {
   "cell_type": "code",
   "execution_count": null,
   "metadata": {
    "colab": {
     "base_uri": "https://localhost:8080/"
    },
    "id": "p1sKRkxAu8Bv",
    "outputId": "d828fd53-73eb-4aff-9cf6-d595fdd746b5"
   },
   "outputs": [],
   "source": [
    "'''Fixed Problem: ModuleNotFoundError: No module named 'ipykernel'''\n",
    "# <Attention> Time consuming\n",
    "# https://ipython.readthedocs.io/en/stable/install/kernel_install.html#kernels-for-different-environments\n",
    "\n",
    "# <Attention> Requires to confirm with \"y\" to proceed when half-way\n",
    "!conda install ipykernel"
   ]
  },
  {
   "cell_type": "code",
   "execution_count": null,
   "metadata": {
    "colab": {
     "base_uri": "https://localhost:8080/"
    },
    "id": "jNEfewFsw6W7",
    "outputId": "5a27dd8b-99c0-48fa-a97c-a93efbfe7b4f"
   },
   "outputs": [],
   "source": [
    "# Check CUDA and GPU information\n",
    "\n",
    "# How to install CUDA in Google Colab GPU's\n",
    "# https://stackoverflow.com/questions/50560395/how-to-install-cuda-in-google-colab-gpus\n",
    "!nvidia-smi"
   ]
  },
  {
   "cell_type": "code",
   "execution_count": null,
   "metadata": {
    "colab": {
     "base_uri": "https://localhost:8080/"
    },
    "id": "YumXEZqKMbd-",
    "outputId": "b7779f6e-e4be-42d3-ed04-1252e7181403"
   },
   "outputs": [],
   "source": [
    "# Install nvidia-container-runtime:\n",
    "!sudo apt-get install nvidia-container-runtime"
   ]
  },
  {
   "cell_type": "code",
   "execution_count": null,
   "metadata": {
    "colab": {
     "base_uri": "https://localhost:8080/"
    },
    "id": "CyQ9Ikg4G0T4",
    "outputId": "5b480643-3c98-4a8d-af7a-c8f8e36e12e4"
   },
   "outputs": [],
   "source": [
    "# 2. Verify the inference demo.\n",
    "!python demo/image_demo.py demo/demo.jpg yolov3_mobilenetv2_320_300e_coco.py yolov3_mobilenetv2_320_300e_coco_20210719_215349-d18dff72.pth --device cpu --out-file result.jpg"
   ]
  },
  {
   "cell_type": "markdown",
   "metadata": {
    "id": "b0K-YetiQFdj"
   },
   "source": [
    "# Install NIVIDA *apex* on Google Colab\n",
    "https://stackoverflow.com/questions/57284345/how-to-install-nvidia-apex-on-google-colab"
   ]
  },
  {
   "cell_type": "code",
   "execution_count": null,
   "metadata": {
    "colab": {
     "base_uri": "https://localhost:8080/"
    },
    "id": "6p3mGcmQWs5-",
    "outputId": "e827f220-1618-4361-a3b9-fcd0b0e0d265"
   },
   "outputs": [],
   "source": [
    "%cd .. # Move back to the major folder"
   ]
  },
  {
   "cell_type": "code",
   "execution_count": null,
   "metadata": {
    "colab": {
     "base_uri": "https://localhost:8080/"
    },
    "id": "HSkn2UZxQTjW",
    "outputId": "78e8b45f-f13d-4e67-e0a5-d7893e17f37b"
   },
   "outputs": [],
   "source": [
    "# First, create a file e.g. setup.sh as follows:\n",
    "# For apex with CUDA and C++ extensions:\n",
    "%%writefile setup.sh"
   ]
  },
  {
   "cell_type": "code",
   "execution_count": null,
   "metadata": {
    "id": "lzvpWjLFdocZ"
   },
   "outputs": [],
   "source": [
    "# Replace \"11.7\" with your CUDA version\n",
    "!export CUDA_HOME=/usr/local/cuda-11.7"
   ]
  },
  {
   "cell_type": "code",
   "execution_count": null,
   "metadata": {
    "id": "s4y4PaoAQqMy"
   },
   "outputs": [],
   "source": [
    "!git clone https://github.com/NVIDIA/apex"
   ]
  },
  {
   "cell_type": "code",
   "execution_count": null,
   "metadata": {
    "colab": {
     "base_uri": "https://localhost:8080/"
    },
    "id": "NEARLdFyQuGx",
    "outputId": "eb4d4c9c-6068-47a0-bf6f-c12b0f2ff6d8"
   },
   "outputs": [],
   "source": [
    "%cd apex"
   ]
  },
  {
   "cell_type": "code",
   "execution_count": null,
   "metadata": {
    "colab": {
     "base_uri": "https://localhost:8080/"
    },
    "id": "bv4keMFAUshm",
    "outputId": "7a518e84-fa65-4327-8167-9921872698ef"
   },
   "outputs": [],
   "source": [
    "# Make sure this returns the same version as PyTorch\n",
    "# https://github.com/NVIDIA/apex/issues/579\n",
    "!nvcc --version"
   ]
  },
  {
   "cell_type": "code",
   "execution_count": null,
   "metadata": {
    "colab": {
     "base_uri": "https://localhost:8080/"
    },
    "id": "7evNqXCxjhxR",
    "outputId": "2c64523b-4cfc-449e-ac1c-6de7fc7feb8e"
   },
   "outputs": [],
   "source": [
    "# Install Python-only apex\n",
    "# https://stackoverflow.com/questions/57284345/how-to-install-nvidia-apex-on-google-colab\n",
    "!pip install -v --disable-pip-version-check --no-cache-dir ./"
   ]
  },
  {
   "cell_type": "code",
   "execution_count": null,
   "metadata": {
    "colab": {
     "base_uri": "https://localhost:8080/"
    },
    "id": "hCylD5_HQoS5",
    "outputId": "1c07e83b-68fd-4812-a597-4ea11dd2bcc9"
   },
   "outputs": [],
   "source": [
    "# Another way\n",
    "#!pip install -v --disable-pip-version-check --no-cache-dir --global-option=\"--cpp_ext\" --global-option=\"--cuda_ext\" ./"
   ]
  },
  {
   "cell_type": "markdown",
   "metadata": {
    "id": "iNAoFyEUvXkh"
   },
   "source": [
    "# Install and Run *ViTPose*\n",
    "\n",
    "https://github.com/ViTAE-Transformer/ViTPose"
   ]
  },
  {
   "cell_type": "code",
   "execution_count": null,
   "metadata": {
    "colab": {
     "base_uri": "https://localhost:8080/"
    },
    "id": "XFBVhYXW4eCS",
    "outputId": "d045d989-e120-4d1d-b67b-eeaba8de4a4c"
   },
   "outputs": [],
   "source": [
    "%cd ..\n",
    "#/content"
   ]
  },
  {
   "cell_type": "code",
   "execution_count": null,
   "metadata": {
    "colab": {
     "base_uri": "https://localhost:8080/"
    },
    "id": "8BMKnBJkvdDB",
    "outputId": "65d6a932-72ce-47f0-f9e6-fbf5143fcb50"
   },
   "outputs": [],
   "source": [
    "!git clone https://github.com/open-mmlab/mmcv.git"
   ]
  },
  {
   "cell_type": "code",
   "execution_count": null,
   "metadata": {
    "colab": {
     "base_uri": "https://localhost:8080/"
    },
    "id": "rzGb_9K7Xhda",
    "outputId": "84d66743-551c-4908-e7cf-223c1770a508"
   },
   "outputs": [],
   "source": [
    "%cd mmcv"
   ]
  },
  {
   "cell_type": "code",
   "execution_count": null,
   "metadata": {
    "colab": {
     "base_uri": "https://localhost:8080/"
    },
    "id": "6HjZFQn1vnro",
    "outputId": "82fe8c19-f5dc-4eda-d502-6141c686fd3d"
   },
   "outputs": [],
   "source": [
    "# The git checkout command lets you navigate between the branches created by git branch\n",
    "# Replace \"1.5.0\" with your version of MMCV-full\n",
    "!git checkout v1.5.0"
   ]
  },
  {
   "cell_type": "code",
   "execution_count": null,
   "metadata": {
    "colab": {
     "base_uri": "https://localhost:8080/"
    },
    "id": "f6bPygP-XnVF",
    "outputId": "1e07c335-087b-4629-c3b6-89b382337179"
   },
   "outputs": [],
   "source": [
    "!MMCV_WITH_OPS=1 pip install -e ."
   ]
  },
  {
   "cell_type": "code",
   "execution_count": null,
   "metadata": {
    "colab": {
     "base_uri": "https://localhost:8080/"
    },
    "id": "-D7ZiiN2xEHs",
    "outputId": "9e757122-4d70-47ff-847e-548d8b765137"
   },
   "outputs": [],
   "source": [
    "%cd .."
   ]
  },
  {
   "cell_type": "code",
   "execution_count": null,
   "metadata": {
    "colab": {
     "base_uri": "https://localhost:8080/"
    },
    "id": "S8-6jr8fyxpn",
    "outputId": "af132167-50a1-45a5-c697-5eb858274a74"
   },
   "outputs": [],
   "source": [
    "!git clone https://github.com/ViTAE-Transformer/ViTPose.git"
   ]
  },
  {
   "cell_type": "code",
   "execution_count": null,
   "metadata": {
    "colab": {
     "base_uri": "https://localhost:8080/"
    },
    "id": "T5uMgPLAy1M4",
    "outputId": "02e06651-802b-4c2a-ea8c-2b8145616923"
   },
   "outputs": [],
   "source": [
    "%cd ViTPose"
   ]
  },
  {
   "cell_type": "code",
   "execution_count": null,
   "metadata": {
    "colab": {
     "base_uri": "https://localhost:8080/"
    },
    "id": "gyDpCe3Py4Du",
    "outputId": "6a167e69-9d25-4d9d-d59c-53a51c8358fe"
   },
   "outputs": [],
   "source": [
    "!pip install -v -e ."
   ]
  },
  {
   "cell_type": "markdown",
   "metadata": {
    "id": "IGw97Waly6zx"
   },
   "source": [
    "After install the two repos, install timm and einops, i.e.,"
   ]
  },
  {
   "cell_type": "code",
   "execution_count": null,
   "metadata": {
    "colab": {
     "base_uri": "https://localhost:8080/"
    },
    "id": "SzHbs8Spy7s6",
    "outputId": "9705581e-57da-4d53-c190-5142030f8413"
   },
   "outputs": [],
   "source": [
    "!pip install timm==0.4.9 einops"
   ]
  },
  {
   "cell_type": "markdown",
   "metadata": {
    "id": "OWZtck3X22V-"
   },
   "source": [
    "# Before training and testing\n",
    "\n",
    "For **ViTPose+** pre-trained models, please first re-organize the pre-trained weights using:\n",
    "\n",
    "> `python tools/model_split.py --source <Pretrained PATH>`"
   ]
  },
  {
   "cell_type": "code",
   "execution_count": null,
   "metadata": {
    "colab": {
     "base_uri": "https://localhost:8080/"
    },
    "id": "qC2_yCTRriQ4",
    "outputId": "9ca148c1-a47b-4ba2-f71e-853c76ad6c0f"
   },
   "outputs": [],
   "source": [
    "# Change path to ViTPose if you haven't done so."
   ]
  },
  {
   "cell_type": "markdown",
   "metadata": {
    "id": "7q0nmqeyy7Vm"
   },
   "source": [
    "For the **ViTPose+ S** WholeBody dataset\n",
    "First download the [pretrained model for ViTPose+ S](https://onedrive.live.com/?cid=e534267b85818129&id=E534267B85818129%2125515&authkey=!AMDka-tYE_ROJ_I) and save it in somewhere in the path. I created a folder named \"pretrained\" and saved the file under it. Please replace the path and file name if needed.\n",
    "\n",
    "> **ViTPose+ L** [pretrained model](https://onedrive.live.com/?authkey=%21ANUjRVBkk7JkSfM&id=E534267B85818129%2125516&cid=E534267B85818129&parId=root&parQt=sharedby&o=OneUp)\n",
    "\n",
    "> **ViTPose+ H** [pretrained model](https://onedrive.live.com/?authkey=%21AF7%5FKwlIFXu6A%5FU&id=E534267B85818129%2125512&cid=E534267B85818129&parId=root&parQt=sharedby&o=OneUp)"
   ]
  },
  {
   "cell_type": "code",
   "execution_count": null,
   "metadata": {
    "id": "kRig-f1pZS76"
   },
   "outputs": [],
   "source": [
    "''' Wholebody: ViTPose+ S '''\n",
    "!python tools/model_split.py --source pretrained/vitpose+_small.pth"
   ]
  },
  {
   "cell_type": "code",
   "execution_count": null,
   "metadata": {
    "id": "OpyE70Ku19we"
   },
   "outputs": [],
   "source": [
    "''' Wholebody: ViTPose+ L '''\n",
    "!python tools/model_split.py --source pretrained/vitpose+_large.pth"
   ]
  },
  {
   "cell_type": "code",
   "execution_count": null,
   "metadata": {
    "id": "qItqkXRT19ZL"
   },
   "outputs": [],
   "source": [
    "''' Wholebody: ViTPose+ H '''\n",
    "!python tools/model_split.py --source pretrained/vitpose+_huge.pth"
   ]
  },
  {
   "cell_type": "markdown",
   "metadata": {
    "id": "qhia5ft_DOpK"
   },
   "source": [
    "# Training (for single machine)\n",
    "\n",
    "> `bash tools/dist_train.sh <Config PATH> <NUM GPUs> --cfg-options model.pretrained=<Pretrained PATH> --seed 0`"
   ]
  },
  {
   "cell_type": "code",
   "execution_count": null,
   "metadata": {
    "colab": {
     "background_save": true
    },
    "id": "L6RoSByN23il"
   },
   "outputs": [],
   "source": [
    "''' Wholebody: ViTPose+ S '''\n",
    "# Please feel free to change NUM GPUs\n",
    "!bash tools/dist_train.sh configs/wholebody/2d_kpt_sview_rgb_img/topdown_heatmap/coco-wholebody/ViTPose_small_wholebody_256x192.py 2 --cfg-options model.pretrained=pretrained/vitpose_plus_small.pth --seed 0"
   ]
  },
  {
   "cell_type": "code",
   "execution_count": null,
   "metadata": {
    "id": "tlRXtdsv2TX-"
   },
   "outputs": [],
   "source": [
    "''' Wholebody: ViTPose+ L'''\n",
    "# Please feel free to change NUM GPUs\n",
    "!bash tools/dist_train.sh configs/wholebody/2d_kpt_sview_rgb_img/topdown_heatmap/coco-wholebody/ViTPose_small_wholebody_256x192.py 2 --cfg-options model.pretrained=pretrained/vitpose_plus_large.pth --seed 0"
   ]
  },
  {
   "cell_type": "code",
   "execution_count": null,
   "metadata": {
    "id": "AZwHlPa_2TFl"
   },
   "outputs": [],
   "source": [
    "''' Wholebody: ViTPose+ H '''\n",
    "# Please feel free to change NUM GPUs\n",
    "!bash tools/dist_train.sh configs/wholebody/2d_kpt_sview_rgb_img/topdown_heatmap/coco-wholebody/ViTPose_small_wholebody_256x192.py 2 --cfg-options model.pretrained=pretrained/vitpose_plus_huge.pth --seed 0"
   ]
  },
  {
   "cell_type": "markdown",
   "metadata": {
    "id": "YN4T-nl82m_i"
   },
   "source": [
    "# Training (for multiple machines)\n",
    "\n",
    "> `python -m torch.distributed.launch --nnodes <Num Machines> --node_rank <Rank of Machine> --nproc_per_node <GPUs Per Machine> --master_addr <Master Addr> --master_port <Master Port> tools/train.py <Config PATH> --cfg-options model.pretrained=<Pretrained PATH> --launcher pytorch --seed 0`\n"
   ]
  },
  {
   "cell_type": "markdown",
   "metadata": {
    "id": "hAndDC3Vew3E"
   },
   "source": [
    "# Testing\n",
    "To test the pretrained models performance, please run\n",
    "\n",
    "> `bash tools/dist_test.sh <Config PATH> <Checkpoint PATH> <NUM GPUs>`\n",
    "\n",
    "\n",
    "\n",
    "\n",
    "\n"
   ]
  },
  {
   "cell_type": "markdown",
   "metadata": {},
   "source": [
    "Downloaded the pretrained models mentioned above and saved in a folder named \"pretrained\".\n",
    "\n",
    "Feel free to change the NUM GPUs.\n",
    "\n",
    "Due to the limitation of my GPU, I haven't succeeded on running this line."
   ]
  },
  {
   "cell_type": "code",
   "execution_count": null,
   "metadata": {
    "colab": {
     "base_uri": "https://localhost:8080/"
    },
    "id": "g6qFD2WSe69h",
    "outputId": "cd77bb65-c81a-43f6-cc40-1bd8b4dd26a6"
   },
   "outputs": [],
   "source": [
    "# Please feel free to change NUM GPUs\n",
    "!bash tools/dist_test.sh configs/wholebody/2d_kpt_sview_rgb_img/topdown_heatmap/coco-wholebody/ViTPose_small_wholebody_256x192.py pretrained/vitpose+_small.pth 1"
   ]
  },
  {
   "cell_type": "markdown",
   "metadata": {
    "id": "dcDprE4Z8qip"
   },
   "source": [
    "# DEMO\n",
    "\n",
    "2D Human Whole-Body Pose Top-Down Video Demo\n",
    "\n",
    "https://github.com/ViTAE-Transformer/ViTPose/blob/main/demo/docs/2d_wholebody_pose_demo.md"
   ]
  },
  {
   "cell_type": "code",
   "execution_count": null,
   "metadata": {
    "colab": {
     "base_uri": "https://localhost:8080/"
    },
    "id": "OrXDg-ygHm1n",
    "outputId": "41f34aad-f0f8-4028-c30d-3f2b682db993"
   },
   "outputs": [],
   "source": [
    "# Original Code Provided to test if the demo could run\n",
    "!python demo/top_down_video_demo_with_mmdet.py \\\n",
    "    demo/mmdetection_cfg/faster_rcnn_r50_fpn_coco.py \\\n",
    "    https://download.openmmlab.com/mmdetection/v2.0/faster_rcnn/faster_rcnn_r50_fpn_1x_coco/faster_rcnn_r50_fpn_1x_coco_20200130-047c8118.pth \\\n",
    "    configs/wholebody/2d_kpt_sview_rgb_img/topdown_heatmap/coco-wholebody/hrnet_w48_coco_wholebody_384x288_dark_plus.py \\\n",
    "    https://download.openmmlab.com/mmpose/top_down/hrnet/hrnet_w48_coco_wholebody_384x288_dark-f5726563_20200918.pth \\\n",
    "    --video-path https://user-images.githubusercontent.com/87690686/137440639-fb08603d-9a35-474e-b65f-46b5c06b68d6.mp4 \\\n",
    "    --out-video-root vis_results"
   ]
  },
  {
   "cell_type": "markdown",
   "metadata": {
    "id": "A4jYm4CW4MjG"
   },
   "source": [
    "# Use the DEMO to Run Our Videos\n",
    "\n",
    "> 2D Human Whole-Body Pose Top-Down Video Demo\n",
    "\n",
    "    python demo/top_down_video_demo_with_mmdet.py \\\n",
    "    ${MMDET_CONFIG_FILE} ${MMDET_CHECKPOINT_FILE} \\\n",
    "    ${MMPOSE_CONFIG_FILE} ${MMPOSE_CHECKPOINT_FILE} \\\n",
    "    --video-path ${VIDEO_FILE} \\\n",
    "    --out-video-root ${OUTPUT_VIDEO_ROOT} \\\n",
    "    [--show --device ${GPU_ID or CPU}] \\\n",
    "    [--bbox-thr ${BBOX_SCORE_THR} --kpt-thr ${KPT_SCORE_THR}]"
   ]
  },
  {
   "cell_type": "markdown",
   "metadata": {
    "id": "TtbBLEamaN-V"
   },
   "source": [
    "Test on single video of our own with the video. Download the videos and save in a folder named \"our_videos\".\n",
    "\n",
    "> 001_Offset_Rear_Foot_Elevated_Split_Squat_Scene_001.mp4\n",
    "\n"
   ]
  },
  {
   "cell_type": "code",
   "execution_count": null,
   "metadata": {
    "colab": {
     "base_uri": "https://localhost:8080/"
    },
    "id": "8XVVMPi64j0i",
    "outputId": "5ec7ce3f-5ef0-4c11-b84e-98a900a8fc62"
   },
   "outputs": [],
   "source": [
    "# Replace the {OUTPUT_VIDEO_ROOT} with the location (either path or link) of our own video\n",
    "!python demo/top_down_video_demo_with_mmdet.py \\\n",
    "    demo/mmdetection_cfg/faster_rcnn_r50_fpn_coco.py \\\n",
    "    https://download.openmmlab.com/mmdetection/v2.0/faster_rcnn/faster_rcnn_r50_fpn_1x_coco/faster_rcnn_r50_fpn_1x_coco_20200130-047c8118.pth \\\n",
    "    configs/wholebody/2d_kpt_sview_rgb_img/topdown_heatmap/coco-wholebody/hrnet_w48_coco_wholebody_384x288_dark_plus.py \\\n",
    "    https://download.openmmlab.com/mmpose/top_down/hrnet/hrnet_w48_coco_wholebody_384x288_dark-f5726563_20200918.pth \\\n",
    "    --video-path our_videos/001_Offset_Rear_Foot_Elevated_Split_Squat_Scene_001.mp4 \\\n",
    "    --out-video-root vis_results"
   ]
  },
  {
   "cell_type": "markdown",
   "metadata": {},
   "source": [
    "![after ViTPose](output/001_gif.gif)"
   ]
  },
  {
   "cell_type": "markdown",
   "metadata": {
    "id": "42Wtnsc9lo3A"
   },
   "source": [
    "\n",
    "\n",
    "> 002_Side_Plank_Abduction_Scene_001.mp4\n",
    "\n"
   ]
  },
  {
   "cell_type": "code",
   "execution_count": null,
   "metadata": {
    "colab": {
     "base_uri": "https://localhost:8080/"
    },
    "id": "K2MoRswflXW7",
    "outputId": "72b88b87-3ace-4699-911e-69a19044b515"
   },
   "outputs": [],
   "source": [
    "!python demo/top_down_video_demo_with_mmdet.py \\\n",
    "    demo/mmdetection_cfg/faster_rcnn_r50_fpn_coco.py \\\n",
    "    https://download.openmmlab.com/mmdetection/v2.0/faster_rcnn/faster_rcnn_r50_fpn_1x_coco/faster_rcnn_r50_fpn_1x_coco_20200130-047c8118.pth \\\n",
    "    configs/wholebody/2d_kpt_sview_rgb_img/topdown_heatmap/coco-wholebody/hrnet_w48_coco_wholebody_384x288_dark_plus.py \\\n",
    "    https://download.openmmlab.com/mmpose/top_down/hrnet/hrnet_w48_coco_wholebody_384x288_dark-f5726563_20200918.pth \\\n",
    "    --video-path our_videos/002_Side_Plank_Abduction_Scene_001.mp4 \\\n",
    "    --out-video-root vis_results"
   ]
  },
  {
   "cell_type": "markdown",
   "metadata": {},
   "source": [
    "![after ViTPose](output/002_gif.gif)"
   ]
  },
  {
   "cell_type": "markdown",
   "metadata": {
    "id": "BSEaHqsElr-w"
   },
   "source": [
    "> 003_Double_Kettlebell_Bottoms_Up_Squat_Scene_001.mp4"
   ]
  },
  {
   "cell_type": "code",
   "execution_count": null,
   "metadata": {
    "colab": {
     "base_uri": "https://localhost:8080/"
    },
    "id": "sWVyv-gslnia",
    "outputId": "e2c6c66a-d6b2-4fed-b7bc-769101f938af"
   },
   "outputs": [],
   "source": [
    "!python demo/top_down_video_demo_with_mmdet.py \\\n",
    "    demo/mmdetection_cfg/faster_rcnn_r50_fpn_coco.py \\\n",
    "    https://download.openmmlab.com/mmdetection/v2.0/faster_rcnn/faster_rcnn_r50_fpn_1x_coco/faster_rcnn_r50_fpn_1x_coco_20200130-047c8118.pth \\\n",
    "    configs/wholebody/2d_kpt_sview_rgb_img/topdown_heatmap/coco-wholebody/hrnet_w48_coco_wholebody_384x288_dark_plus.py \\\n",
    "    https://download.openmmlab.com/mmpose/top_down/hrnet/hrnet_w48_coco_wholebody_384x288_dark-f5726563_20200918.pth \\\n",
    "    --video-path our_videos/003_Double_Kettlebell_Bottoms_Up_Squat_Scene_001.mp4 \\\n",
    "    --out-video-root vis_results"
   ]
  },
  {
   "cell_type": "markdown",
   "metadata": {},
   "source": [
    "![after ViTPose](output/003_gif.gif)"
   ]
  },
  {
   "cell_type": "markdown",
   "metadata": {
    "id": "pRLqTmtNnguE"
   },
   "source": [
    "> vgfit_moving_camera_dumbbell_press.mp4"
   ]
  },
  {
   "cell_type": "code",
   "execution_count": null,
   "metadata": {
    "colab": {
     "base_uri": "https://localhost:8080/"
    },
    "id": "a3NCprdwnkrH",
    "outputId": "9582f7f1-2bf0-4f9d-878b-8430b3ee807d"
   },
   "outputs": [],
   "source": [
    "!python demo/top_down_video_demo_with_mmdet.py \\\n",
    "    demo/mmdetection_cfg/faster_rcnn_r50_fpn_coco.py \\\n",
    "    https://download.openmmlab.com/mmdetection/v2.0/faster_rcnn/faster_rcnn_r50_fpn_1x_coco/faster_rcnn_r50_fpn_1x_coco_20200130-047c8118.pth \\\n",
    "    configs/wholebody/2d_kpt_sview_rgb_img/topdown_heatmap/coco-wholebody/hrnet_w48_coco_wholebody_384x288_dark_plus.py \\\n",
    "    https://download.openmmlab.com/mmpose/top_down/hrnet/hrnet_w48_coco_wholebody_384x288_dark-f5726563_20200918.pth \\\n",
    "    --video-path our_videos/vgfit_moving_camera_dumbbell_press.mp4 \\\n",
    "    --out-video-root vis_results"
   ]
  },
  {
   "cell_type": "markdown",
   "metadata": {},
   "source": [
    "![after ViTPose](output/004_gif.gif)"
   ]
  }
 ],
 "metadata": {
  "accelerator": "GPU",
  "colab": {
   "provenance": [],
   "toc_visible": true
  },
  "gpuClass": "premium",
  "kernelspec": {
   "display_name": "Python 3 (ipykernel)",
   "language": "python",
   "name": "python3"
  },
  "language_info": {
   "codemirror_mode": {
    "name": "ipython",
    "version": 3
   },
   "file_extension": ".py",
   "mimetype": "text/x-python",
   "name": "python",
   "nbconvert_exporter": "python",
   "pygments_lexer": "ipython3",
   "version": "3.9.13"
  }
 },
 "nbformat": 4,
 "nbformat_minor": 1
}
