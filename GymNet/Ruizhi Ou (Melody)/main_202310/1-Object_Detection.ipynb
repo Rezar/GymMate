{
 "cells": [
  {
   "cell_type": "markdown",
   "id": "3d70b021",
   "metadata": {},
   "source": [
    "*10/23/2023 Melody*\n",
    "\n",
    "Detect fitness devices using [YOLOv8](https://docs.ultralytics.com/) model.\n",
    "1. Prepare data for training and testing\n",
    "    - (done) Automate the rotation of 3D fitness device models in Blender;\n",
    "    - (half-way) Automate the screenshot process of each angle;\n",
    "    - (done) Semi-automate the process of data labelling.\n",
    "2. Train the YOLOv8 model with customized dataset.\n",
    "3. Detect fitness devices from videos."
   ]
  },
  {
   "cell_type": "markdown",
   "id": "65cfe914",
   "metadata": {},
   "source": [
    "### Overall workflow\n",
    "\n",
    "**1. Object Detection (YOLOv8)**\n",
    "\n",
    "2. Human figure segmentation (Segment Anything)\n",
    "\n",
    "3. Pose Estimation (MoveNet)\n",
    "\n",
    "4. Pose Estimation Correction\n",
    "\n",
    "5. Define and classify fitness poses\n",
    "\n",
    "6. Output the text description"
   ]
  },
  {
   "cell_type": "markdown",
   "id": "68d5b176",
   "metadata": {},
   "source": [
    "## 1. Prepare data for training and testing"
   ]
  },
  {
   "cell_type": "markdown",
   "id": "a59727d7",
   "metadata": {},
   "source": [
    "- Automate the rotation of 3D fitness device models in Blender;\n",
    "\n",
    "- Automate the screenshot process of each angle;\n",
    "\n",
    "(Open Blender --> Scripting --> run the code there, not here)\n",
    "\n",
    "Problems remain: it's a limitation since all the scripts passed via command line argument \n",
    "are executed at command line processing time, prior to any OpenGL draw is done."
   ]
  },
  {
   "cell_type": "code",
   "execution_count": null,
   "id": "89e48f59",
   "metadata": {},
   "outputs": [],
   "source": [
    "import bpy\n",
    "import math\n",
    "import numpy as np\n",
    "\n",
    "# https://www.youtube.com/watch?v=XqX5wh4YeRw\n",
    "so = bpy.data.objects.get(\"defaultMaterial.001\")\n",
    "\n",
    "filepath1 = \"//output/x_axis/\"\n",
    "\n",
    "# Why Blender could not save screenshots after drawing\n",
    "# https://blender.stackexchange.com/questions/82936/blender-creates-screenshot-using-python-script-but-not-when-running-in-backgroun\n",
    "'''\n",
    "it's a limitation since all the scripts passed via command line argument \n",
    "are executed at command line processing time, prior to any OpenGL draw is done.\n",
    "'''\n",
    "\n",
    "# Rotate object by x axis\n",
    "for count in range(5, 181, 5):\n",
    "    rad = count * math.pi / 180\n",
    "    so.rotation_euler[0] += rad\n",
    "    bpy.context.view_layer.update()\n",
    "    # Take snapshot\n",
    "    filepath1 = \"//output/x_axis/\"\n",
    "    filepath1 += str(count)\n",
    "    filepath1 += \".png\"\n",
    "    # https://docs.blender.org/api/current/bpy.ops.screen.html#bpy.ops.screen.screenshot\n",
    "    bpy.ops.screen.screenshot(filepath=filepath1)\n",
    "\n",
    "    \n",
    "filepath2 = \"//output/y_axis/\"\n",
    "\n",
    "# Rotate object by y axis\n",
    "for count in range(5, 181, 5):\n",
    "    rad = count * math.pi / 180\n",
    "    so.rotation_euler[1] += rad\n",
    "    # Take snapshot\n",
    "    filepath2 = \"//output/y_axis/\"\n",
    "    filepath2 += str(count)\n",
    "    filepath2 += \".png\"\n",
    "    # https://shuvit.org/python_api/bpy.ops.screen.html\n",
    "    bpy.ops.screen.screenshot(filepath=filepath2)\n",
    "    \n",
    "    \n",
    "    \n",
    "filepath3 = \"//output/z_axis/\"\n",
    "\n",
    "# Rotate object by z axis\n",
    "for count in range(5, 181, 5):\n",
    "    rad = count * math.pi / 180\n",
    "    so.rotation_euler[2] += rad\n",
    "    # Take snapshot\n",
    "    filepath3 = \"//output/z_axis/\"\n",
    "    filepath3 += str(count)\n",
    "    filepath3 += \".png\"\n",
    "    bpy.ops.screen.screenshot(filepath=filepath3)"
   ]
  },
  {
   "cell_type": "markdown",
   "id": "225773d5",
   "metadata": {},
   "source": [
    "## 2. Train the YOLOv8 model with customized dataset"
   ]
  },
  {
   "cell_type": "code",
   "execution_count": null,
   "id": "2fd11050",
   "metadata": {},
   "outputs": [],
   "source": [
    "from ultralytics import YOLO\n",
    "\n",
    "# Load a model\n",
    "model = YOLO('yolov8n.pt')  # load a pretrained model (recommended for training)\n",
    "\n",
    "# Train the model\n",
    "results = model.train(data='/Users/melodyjoyou/Gymnet/Object_Detection/YOLOv8/Dataset/Blender_data/data.yaml', epochs=50, imgsz=640)"
   ]
  }
 ],
 "metadata": {
  "kernelspec": {
   "display_name": "Python 3 (ipykernel)",
   "language": "python",
   "name": "python3"
  },
  "language_info": {
   "codemirror_mode": {
    "name": "ipython",
    "version": 3
   },
   "file_extension": ".py",
   "mimetype": "text/x-python",
   "name": "python",
   "nbconvert_exporter": "python",
   "pygments_lexer": "ipython3",
   "version": "3.11.5"
  }
 },
 "nbformat": 4,
 "nbformat_minor": 5
}
